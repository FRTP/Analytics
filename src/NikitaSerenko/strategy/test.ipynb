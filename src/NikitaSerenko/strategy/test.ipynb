{
 "cells": [
  {
   "cell_type": "code",
   "execution_count": 2,
   "metadata": {
    "collapsed": true
   },
   "outputs": [],
   "source": [
    "import numpy as np"
   ]
  },
  {
   "cell_type": "code",
   "execution_count": 3,
   "metadata": {
    "collapsed": false
   },
   "outputs": [
    {
     "name": "stdout",
     "output_type": "stream",
     "text": [
      "SBERP, SBER\n",
      "Не забудьте вы можете посмотреть тики и заявки в соответствующих файлах\n",
      "tickFile = data/order/TICKER_m5_tick.csv\n",
      "orderFile = data/order/TICKER_m5_order.csv\n"
     ]
    },
    {
     "data": {
      "text/html": [
       "<div>\n",
       "<table border=\"1\" class=\"dataframe\">\n",
       "  <thead>\n",
       "    <tr style=\"text-align: right;\">\n",
       "      <th></th>\n",
       "      <th>scale</th>\n",
       "      <th>sumProcent</th>\n",
       "      <th>maxDrawdown</th>\n",
       "      <th>numDeals</th>\n",
       "      <th>sumTakeProfit</th>\n",
       "      <th>sumHoldPeriod</th>\n",
       "      <th>sumStopLoss</th>\n",
       "    </tr>\n",
       "  </thead>\n",
       "  <tbody>\n",
       "    <tr>\n",
       "      <th>SBERP</th>\n",
       "      <td>-17.37</td>\n",
       "      <td>-10.91</td>\n",
       "      <td>10.32</td>\n",
       "      <td>14</td>\n",
       "      <td>12.92</td>\n",
       "      <td>-1.19</td>\n",
       "      <td>-22.64</td>\n",
       "    </tr>\n",
       "    <tr>\n",
       "      <th>SBER</th>\n",
       "      <td>-20.21</td>\n",
       "      <td>-18.01</td>\n",
       "      <td>16.02</td>\n",
       "      <td>13</td>\n",
       "      <td>0.00</td>\n",
       "      <td>2.35</td>\n",
       "      <td>-20.37</td>\n",
       "    </tr>\n",
       "  </tbody>\n",
       "</table>\n",
       "</div>"
      ],
      "text/plain": [
       "       scale  sumProcent  maxDrawdown  numDeals  sumTakeProfit  sumHoldPeriod  \\\n",
       "SBERP -17.37      -10.91        10.32        14          12.92          -1.19   \n",
       "SBER  -20.21      -18.01        16.02        13           0.00           2.35   \n",
       "\n",
       "       sumStopLoss  \n",
       "SBERP       -22.64  \n",
       "SBER        -20.37  "
      ]
     },
     "execution_count": 3,
     "metadata": {},
     "output_type": "execute_result"
    }
   ],
   "source": [
    "def init(self):\n",
    "    self.alpha = 0.08 # 8 процента\n",
    "    self.holdPeriod = 350 # не менее 20\n",
    "    self._tickSize = 'm5'\n",
    "    self.currIndex = 0\n",
    "\n",
    "    \n",
    "    self.up = []\n",
    "    self.down = []\n",
    "    self.rsi = 50\n",
    "    self.rsiIndex = 0\n",
    "    self.rsiAlpha = 2 / (3 * 12 + 1)\n",
    "    self.rsiUpEma = 0\n",
    "    self.rsiDownEma = 0\n",
    "    \n",
    "    self.sma = 0\n",
    "    self.smaArray = []\n",
    "    \n",
    "    self.stohastic_K_fast = []\n",
    "    self.stohastic_K_full = []\n",
    "    self.stohastic_D_full = []\n",
    "    self.stohasticIndicator = 0\n",
    "    \n",
    "def tick(self, data):\n",
    "    self.currIndex += 1\n",
    "    #-----------------------------rsi-----------------------------------\n",
    "    if self.currIndex > 36:\n",
    "        self.up = []\n",
    "        self.down = []\n",
    "        for i in range(-37, -1):\n",
    "            diff = data['close'][i + 1] - data['close'][i] \n",
    "            if diff > 0:\n",
    "                self.up.append(diff)\n",
    "                self.down.append(0)\n",
    "            else:\n",
    "                self.up.append(0)\n",
    "                self.down.append(-diff)\n",
    "        self.rsiUpEma = self.up[0]\n",
    "        for i in range(1, 36):\n",
    "            self.rsiUpEma = self.rsiAlpha * self.up[i] + (1 - self.rsiAlpha) * self.rsiUpEma\n",
    "        self.rsiDownEma = self.down[0]\n",
    "        for i in range(1, 36):\n",
    "            self.rsiDownEma = self.rsiAlpha * self.down[i] + (1 - self.rsiAlpha) * self.rsiDownEma\n",
    "        self.rsi = 100*(self.rsiUpEma/(self.rsiUpEma + self.rsiDownEma))\n",
    "        if self.rsi > 80:\n",
    "            self.rsiIndex = -1\n",
    "        elif self.rsi < 20:\n",
    "            self.rsiIndex = 1\n",
    "        else:\n",
    "            self.rsiIndex = 0\n",
    "    #-----------------------------rsi-----------------------------------\n",
    "    \n",
    "    #-----------------------------sma-----------------------------------\n",
    "    if self.currIndex > 1561:\n",
    "        self.sma = np.average(data['close'][-1561:])\n",
    "    #-----------------------------sma-----------------------------------\n",
    "    \n",
    "    #--------------------------stohastic(f_p, s_p, t_p)--------------------------------\n",
    "    f_p = 2 * 12\n",
    "    s_p = 3 * 12\n",
    "    t_p = 3 * 12\n",
    "    \n",
    "    self.stohastic_K_fast.append(100 * (data['close'][-1] - np.min(data['low'][-min(f_p, len(data['low'])):])) / (np.max(data['high'][-min(f_p, len(data['high'])):]) - np.min(data['low'][-min(f_p, len(data['low'])):])))\n",
    "    self.stohastic_K_full.append(np.average(self.stohastic_K_fast[-min(s_p, len(self.stohastic_K_fast)):]))\n",
    "    self.stohastic_D_full.append(np.average(self.stohastic_K_full[-min(t_p, len(self.stohastic_K_full)):]))\n",
    "    \n",
    "    if self.currIndex > f_p + s_p + t_p:\n",
    "        if ((self.stohastic_K_full[-2] > self.stohastic_D_full[-2]) ^ (self.stohastic_K_full[-1] < self.stohastic_D_full[-1])) and (self.stohastic_K_full[-2] < 30 or self.stohastic_K_full[-1] < 30) and (self.stohastic_D_full[-2] < 30 or self.stohastic_D_full[-1] < 30):\n",
    "            self.stohasticIndicator = 1\n",
    "        elif ((self.stohastic_K_full[-2] > self.stohastic_D_full[-2]) ^ (self.stohastic_K_full[-1] < self.stohastic_D_full[-1])) and (self.stohastic_K_full[-2] > 70 or self.stohastic_K_full[-1] > 70) and (self.stohastic_D_full[-2] > 70 or self.stohastic_D_full[-1] > 70):\n",
    "            self.stohasticIndicator = -1\n",
    "        else:\n",
    "            self.stohasticIndicator = 0\n",
    "    #--------------------------stohastic--------------------------------\n",
    "\n",
    "    if ((self.rsiIndex == 1) and (data['close'][-1] > self.sma) and (self.stohasticIndicator == 1)):\n",
    "    \torder('buy', takeProfit=self.alpha/2, stopLoss=self.alpha/4, holdPeriod=self.holdPeriod)\n",
    "    elif self.rsiIndex == -1 and data['close'][-1] < self.sma and self.stohasticIndicator == 1:\n",
    "    \torder('sell', takeProfit=self.alpha, stopLoss=self.alpha/4, holdPeriod=self.holdPeriod)  \n",
    "        \n",
    "        \n",
    "        \n",
    "        \n",
    "import bcsquants\n",
    "from bcsquants import order\n",
    "\n",
    "\n",
    "result = bcsquants.getBacktestResult(init, tick)\n",
    "bcsquants.showBacktestResult(result)"
   ]
  },
  {
   "cell_type": "code",
   "execution_count": 4,
   "metadata": {
    "collapsed": false
   },
   "outputs": [
    {
     "name": "stdout",
     "output_type": "stream",
     "text": [
      "Using matplotlib backend: Qt5Agg\n",
      "Populating the interactive namespace from numpy and matplotlib\n"
     ]
    }
   ],
   "source": [
    "% pylab\n",
    "bcsquants.plotChart(result, 'BRX')"
   ]
  },
  {
   "cell_type": "code",
   "execution_count": null,
   "metadata": {
    "collapsed": true
   },
   "outputs": [],
   "source": []
  }
 ],
 "metadata": {
  "kernelspec": {
   "display_name": "Python 3",
   "language": "python",
   "name": "python3"
  },
  "language_info": {
   "codemirror_mode": {
    "name": "ipython",
    "version": 3
   },
   "file_extension": ".py",
   "mimetype": "text/x-python",
   "name": "python",
   "nbconvert_exporter": "python",
   "pygments_lexer": "ipython3",
   "version": "3.6.0"
  }
 },
 "nbformat": 4,
 "nbformat_minor": 2
}
